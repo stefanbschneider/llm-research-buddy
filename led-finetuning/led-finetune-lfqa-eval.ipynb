{
 "cells": [
  {
   "cell_type": "code",
   "execution_count": 3,
   "metadata": {},
   "outputs": [
    {
     "data": {
      "text/plain": [
       "DatasetDict({\n",
       "    train: Dataset({\n",
       "        features: ['question', 'answer', 'context'],\n",
       "        num_rows: 202767\n",
       "    })\n",
       "    validation: Dataset({\n",
       "        features: ['question', 'answer', 'context'],\n",
       "        num_rows: 2646\n",
       "    })\n",
       "})"
      ]
     },
     "execution_count": 3,
     "metadata": {},
     "output_type": "execute_result"
    }
   ],
   "source": [
    "import datasets\n",
    "import evaluate\n",
    "\n",
    "rouge = evaluate.load(\"rouge\")\n",
    "\n",
    "# Long-form question answering dataset, nicely preprocessed already.\n",
    "# Similar to ELI5: https://facebookresearch.github.io/ELI5/index.html (which is unavailable now)\n",
    "# I use my filtered version\n",
    "dataset_lfqa = datasets.load_dataset(\"stefanbschneider/lfqa-max-answer-length-512\")\n",
    "dataset_lfqa"
   ]
  },
  {
   "cell_type": "code",
   "execution_count": null,
   "metadata": {},
   "outputs": [
    {
     "data": {
      "application/vnd.jupyter.widget-view+json": {
       "model_id": "e13a4b1cbf054a9eae7d4df80fc4d5e0",
       "version_major": 2,
       "version_minor": 0
      },
      "text/plain": [
       "config.json:   0%|          | 0.00/1.20k [00:00<?, ?B/s]"
      ]
     },
     "metadata": {},
     "output_type": "display_data"
    },
    {
     "data": {
      "application/vnd.jupyter.widget-view+json": {
       "model_id": "71936adec9ff4c5f99256f256b4d511e",
       "version_major": 2,
       "version_minor": 0
      },
      "text/plain": [
       "model.safetensors:   0%|          | 0.00/648M [00:00<?, ?B/s]"
      ]
     },
     "metadata": {},
     "output_type": "display_data"
    }
   ],
   "source": [
    "from transformers import AutoModelForSeq2SeqLM, AutoTokenizer\n",
    "\n",
    "tokenizer = AutoTokenizer.from_pretrained(\"allenai/led-base-16384\")\n",
    "base_model = AutoModelForSeq2SeqLM.from_pretrained(\"allenai/led-base-16384\")\n",
    "tuned_model = AutoModelForSeq2SeqLM.from_pretrained(\"stefanbschneider/led-base-16384-lfqa-ans-len-512\", revision=\"main\")"
   ]
  },
  {
   "cell_type": "code",
   "execution_count": 5,
   "metadata": {},
   "outputs": [
    {
     "data": {
      "text/plain": [
       "{'question': \"what's the difference between a forest and a wood?\",\n",
       " 'answer': \"They're used interchangeably a lot. You'll get different answers from different resources, but the general consensus seems to be that woods are smaller than forests.\\n\\n >  A wood is an area covered in trees, larger than a grove or a copse. A forest is also an area covered in trees, but it is larger than a wood\\n\\n >  The U.S. National Vegetation Classification system differentiates them according to their densities: 25 to 60 percent of a a wood is covered by tree canopies, while 60 to 100 percent of a forest is canopied.\",\n",
       " 'context': ['Wood is divided, according to its botanical origin, into two kinds: softwoods, from coniferous trees, and hardwoods, from broad-leaved trees. Softwoods are lighter and generally simple in structure, whereas hardwoods are harder and more complex. However, in Australia, \"softwood\" generally describes rain forest trees, and \"hardwood\" describes Sclerophyll species (\"Eucalyptus\" \"spp\").\\n',\n",
       "  'Woodland is defined by Chambers English dictionary as \"land covered with wood\" i.e. dominated by tree species. Forestry is defined as \"1. the science and art of planting, tending and managing forests; 2. Forest country\". This implies that forests have been planted by mankind for a variety of purposes, but mostly for exploitation for timber and pulp for the paper industry. The majority of Forests in Wales were planted by the British Forestry Commission, a UK government agency. Since 2016 the Forestry Commission in Wales has been taken over by Natural Resources Wales (NRW).\\n',\n",
       "  'A woodland or wood (or in the U.S., the \"plurale tantum\" woods) is a low-density forest forming open habitats with plenty of sunlight and limited shade. Woodlands may support an understory of shrubs and herbaceous plants including grasses. Woodland may form a transition to shrubland under drier conditions or during early stages of primary or secondary succession. Higher density areas of trees with a largely closed canopy that provides extensive and nearly continuous shade are referred to as forests. \\n',\n",
       "  'Timber means trunks and branches of trees, whether standing or not, and all wood. This definition includes the full range of wood products; all categories of saw logs, veneer logs, pulpwood and firewood.\\n',\n",
       "  'A forest product is any material derived from forestry for direct consumption or commercial use, such as lumber, paper, or forage for livestock. Wood, by far the dominant product of forests, is used for many purposes, such as wood fuel (e.g. in form of firewood or charcoal) or the finished structural materials used for the construction of buildings, or as a raw material, in the form of wood pulp, that is used in the production of paper. All other non-wood products derived from forest resources, comprising a broad variety of other forest products, are collectively described as non-timber forest products (NTFP). Non-timber forest products are viewed to have fewer negative effects on forest ecosystem when providing income sources for local community.\\n',\n",
       "  'Wood is a product of trees, and sometimes other fibrous plants, used for construction purposes when cut or pressed into lumber and timber, such as boards, planks and similar materials. It is a generic building material and is used in building just about any type of structure in most climates. Wood can be very flexible under loads, keeping strength while bending, and is incredibly strong when compressed vertically. There are many differing qualities to the different types of wood, even among same tree species. This means specific species are better suited for various uses than others. And growing conditions are important for deciding quality.\\n',\n",
       "  'Processing and products differs especially with regard to the distinction between softwood and hardwood. While softwood primarily goes into the production of wood fuel and pulp and paper, hardwood is used mainly for furniture, floors, etc.. Both types can be of use for building and (residential) construction purposes (e.g. log houses, log cabins, timber framing).\\n']}"
      ]
     },
     "execution_count": 5,
     "metadata": {},
     "output_type": "execute_result"
    }
   ],
   "source": [
    "example = dataset_lfqa[\"train\"][0]\n",
    "example"
   ]
  },
  {
   "cell_type": "code",
   "execution_count": 6,
   "metadata": {},
   "outputs": [
    {
     "name": "stderr",
     "output_type": "stream",
     "text": [
      "Input ids are automatically padded from 727 to 1024 to be a multiple of `config.attention_window`: 1024\n"
     ]
    },
    {
     "data": {
      "text/plain": [
       "'question: what\\'s the difference between a forest and a wood?, context: Wood is divided, according to its botanical origin, into two kinds: softwoods, from coniferous trees, and hardwoods, from broad-leaved trees. Softwoods are lighter and generally simple in structure, whereas hardwoods are harder and more complex. However, in Australia, \"softwood\" generally describes rain forest trees, and \"hardwood\" describes Sclerophyll species (\"Eucalyptus\" \"spp\"). Woodland is defined by Chambers English dictionary as \"land covered with wood\" i.e. dominated by tree species. Forestry is defined as \"1. the science and art of planting, tending and managing forests; 2. Forest country\". This implies that forests have been planted by mankind for a variety of purposes, but mostly for exploitation for timber and pulp for the paper industry. The majority of Forests in Wales were planted by the British Forestry Commission, a UK government agency. Since 2016 the Forestry Commission in Wales has been taken over by Natural Resources Wales (NRW). Woodland is a type of forest that is dominated by tree species. Woodland is a type of forest that is dominated by tree species. Woodland is a type of forest that is dominated by tree species. Woodland is a type of forest that is dominated by tree species. The majority of Forests in Wales were planted by the British Forestry Commission, a UK government agency. Since 2016 the Forestry Commission in Wales has been taken over by Natural Resources Wales (NRW). Woodland is a type of forest that is dominated by tree species. A woodland or wood (or in the U.S., the \"plurale tantum\" woods) is a low-density forest forming open habitats with plenty of sunlight and limited shade. Woodlands may support an understory of shrubs and herbaceous plants including grasses. Woodland may form a transition to shrubland under drier conditions or during early stages of primary or secondary succession. Higher density areas of trees with a largely closed canopy that provides extensive and nearly continuous shade are referred to as forests. ÂWoodland is a type of forest. Timber means trunks and branches of trees, whether standing or not, and all wood. This definition includes the full range of wood products; all categories of saw logs, veneer logs, pulpwood and firewood. Woodland is a type of wood that is used for many purposes. A forest product is any material derived'"
      ]
     },
     "execution_count": 6,
     "metadata": {},
     "output_type": "execute_result"
    }
   ],
   "source": [
    "input = f\"question: {example['question']}, context: {' '.join(example['context'])}\"    \n",
    "tokens = tokenizer(input, return_tensors=\"pt\")\n",
    "\n",
    "# base model\n",
    "base_model_output = base_model.generate(**tokens, max_length=512)\n",
    "base_model_answer = tokenizer.decode(base_model_output[0], skip_special_tokens=True)\n",
    "base_model_answer"
   ]
  },
  {
   "cell_type": "code",
   "execution_count": 7,
   "metadata": {},
   "outputs": [
    {
     "data": {
      "text/plain": [
       "{'rouge1': 0.18969072164948456,\n",
       " 'rouge2': 0.033126293995859216,\n",
       " 'rougeL': 0.11958762886597939,\n",
       " 'rougeLsum': 0.15257731958762888}"
      ]
     },
     "execution_count": 7,
     "metadata": {},
     "output_type": "execute_result"
    }
   ],
   "source": [
    "rouge.compute(predictions=[base_model_answer], references=[example['answer']])"
   ]
  },
  {
   "cell_type": "code",
   "execution_count": null,
   "metadata": {},
   "outputs": [
    {
     "data": {
      "text/plain": [
       "'A forest is a forest that is not a forest. A forest is a forest that is not a forest. A forest is a forest that is not a forest. A forest is a forest that is not a forest. A forest is a forest that is not a forest. A forest is a forest that is not a forest. A forest is a forest that is not a forest. A forest is a forest that is not a forest. A forest is a forest that is not a forest. A forest is a forest that is not a forest. A forest is a forest that is not a forest. A forest is a forest that is not a forest. A forest is a forest that is not a forest. A forest is a forest that is not a forest. A forest is a forest that is not a forest. A forest is a forest that is not a forest. A forest is a forest that is not a forest. A forest is a forest that is not a forest. A forest is a forest that is not a forest. A forest is a forest that is not a forest. A forest is a forest that is not a forest. A forest is a forest that is not a forest. A forest is a forest that is not a forest. A forest is a forest that is not a forest. A forest is a forest that is not a forest. A forest is a forest that is not a forest. A forest is a forest that is not a forest. A forest is a forest that is not a forest. A forest is a forest that is not a forest. A forest is a forest that is not a forest. A forest is a forest that is not a forest. A forest is a forest that is not a forest. A forest is a forest that is not a forest. A forest is a forest that is not a forest. A forest is a forest that is not a forest. A forest is a forest that is not a forest. A forest is a forest that is not a forest. A forest is a forest that is not a forest. A forest is a forest that is not a forest. A forest is a forest that is not a forest. A forest is a forest that is not a forest. A forest is a forest that is not a forest. A forest is a forest that is not a forest. A forest is a forest that is not a forest. A forest is a forest that is not a forest. A forest is a forest that is not a forest. A forest is a'"
      ]
     },
     "execution_count": 8,
     "metadata": {},
     "output_type": "execute_result"
    }
   ],
   "source": [
    "# same for fine-tuned model\n",
    "tuned_model_output = tuned_model.generate(**tokens, max_length=1024)\n",
    "tuned_model_answer = tokenizer.decode(tuned_model_output[0], skip_special_tokens=True)\n",
    "tuned_model_answer"
   ]
  },
  {
   "cell_type": "code",
   "execution_count": 9,
   "metadata": {},
   "outputs": [
    {
     "data": {
      "text/plain": [
       "{'rouge1': 0.06093189964157705,\n",
       " 'rouge2': 0.014388489208633094,\n",
       " 'rougeL': 0.06093189964157705,\n",
       " 'rougeLsum': 0.06093189964157705}"
      ]
     },
     "execution_count": 9,
     "metadata": {},
     "output_type": "execute_result"
    }
   ],
   "source": [
    "rouge.compute(predictions=[tuned_model_answer], references=[example['answer']])"
   ]
  },
  {
   "cell_type": "code",
   "execution_count": 13,
   "metadata": {},
   "outputs": [
    {
     "name": "stderr",
     "output_type": "stream",
     "text": [
      "Device set to use mps:0\n"
     ]
    }
   ],
   "source": [
    "from transformers import pipeline\n",
    "\n",
    "lfqa_pipeline = pipeline(task=\"text2text-generation\", model=\"stefanbschneider/led-base-16384-lfqa-ans-len-512\")\n"
   ]
  },
  {
   "cell_type": "code",
   "execution_count": 14,
   "metadata": {},
   "outputs": [
    {
     "name": "stderr",
     "output_type": "stream",
     "text": [
      "Input ids are automatically padded from 25 to 1024 to be a multiple of `config.attention_window`: 1024\n"
     ]
    },
    {
     "data": {
      "text/plain": [
       "[{'generated_text': 'Germany is a country in Europe. Germany is a country in Europe. Germany is a country in'}]"
      ]
     },
     "execution_count": 14,
     "metadata": {},
     "output_type": "execute_result"
    }
   ],
   "source": [
    "lfqa_pipeline(\"question: What is the capital of Germany?, context: Germany is a country in Europe. Its capital is Berlin.\")"
   ]
  },
  {
   "cell_type": "code",
   "execution_count": 15,
   "metadata": {},
   "outputs": [
    {
     "name": "stdout",
     "output_type": "stream",
     "text": [
      "question: what's the difference between a forest and a wood?, context: Wood is divided, according to its botanical origin, into two kinds: softwoods, from coniferous trees, and hardwoods, from broad-leaved trees. Softwoods are lighter and generally simple in structure, whereas hardwoods are harder and more complex. However, in Australia, \"softwood\" generally describes rain forest trees, and \"hardwood\" describes Sclerophyll species (\"Eucalyptus\" \"spp\").\n",
      " Woodland is defined by Chambers English dictionary as \"land covered with wood\" i.e. dominated by tree species. Forestry is defined as \"1. the science and art of planting, tending and managing forests; 2. Forest country\". This implies that forests have been planted by mankind for a variety of purposes, but mostly for exploitation for timber and pulp for the paper industry. The majority of Forests in Wales were planted by the British Forestry Commission, a UK government agency. Since 2016 the Forestry Commission in Wales has been taken over by Natural Resources Wales (NRW).\n",
      " A woodland or wood (or in the U.S., the \"plurale tantum\" woods) is a low-density forest forming open habitats with plenty of sunlight and limited shade. Woodlands may support an understory of shrubs and herbaceous plants including grasses. Woodland may form a transition to shrubland under drier conditions or during early stages of primary or secondary succession. Higher density areas of trees with a largely closed canopy that provides extensive and nearly continuous shade are referred to as forests. \n",
      " Timber means trunks and branches of trees, whether standing or not, and all wood. This definition includes the full range of wood products; all categories of saw logs, veneer logs, pulpwood and firewood.\n",
      " A forest product is any material derived from forestry for direct consumption or commercial use, such as lumber, paper, or forage for livestock. Wood, by far the dominant product of forests, is used for many purposes, such as wood fuel (e.g. in form of firewood or charcoal) or the finished structural materials used for the construction of buildings, or as a raw material, in the form of wood pulp, that is used in the production of paper. All other non-wood products derived from forest resources, comprising a broad variety of other forest products, are collectively described as non-timber forest products (NTFP). Non-timber forest products are viewed to have fewer negative effects on forest ecosystem when providing income sources for local community.\n",
      " Wood is a product of trees, and sometimes other fibrous plants, used for construction purposes when cut or pressed into lumber and timber, such as boards, planks and similar materials. It is a generic building material and is used in building just about any type of structure in most climates. Wood can be very flexible under loads, keeping strength while bending, and is incredibly strong when compressed vertically. There are many differing qualities to the different types of wood, even among same tree species. This means specific species are better suited for various uses than others. And growing conditions are important for deciding quality.\n",
      " Processing and products differs especially with regard to the distinction between softwood and hardwood. While softwood primarily goes into the production of wood fuel and pulp and paper, hardwood is used mainly for furniture, floors, etc.. Both types can be of use for building and (residential) construction purposes (e.g. log houses, log cabins, timber framing).\n",
      "\n"
     ]
    },
    {
     "data": {
      "text/plain": [
       "[{'generated_text': 'Woodland is a forest, but wood is a forest. Woodland is a forest, but'}]"
      ]
     },
     "execution_count": 15,
     "metadata": {},
     "output_type": "execute_result"
    }
   ],
   "source": [
    "print(input)\n",
    "lfqa_pipeline(input)"
   ]
  },
  {
   "cell_type": "code",
   "execution_count": null,
   "metadata": {},
   "outputs": [],
   "source": []
  }
 ],
 "metadata": {
  "kernelspec": {
   "display_name": "llm",
   "language": "python",
   "name": "python3"
  },
  "language_info": {
   "codemirror_mode": {
    "name": "ipython",
    "version": 3
   },
   "file_extension": ".py",
   "mimetype": "text/x-python",
   "name": "python",
   "nbconvert_exporter": "python",
   "pygments_lexer": "ipython3",
   "version": "3.12.3"
  }
 },
 "nbformat": 4,
 "nbformat_minor": 2
}
