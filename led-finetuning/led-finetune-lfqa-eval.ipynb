{
 "cells": [
  {
   "cell_type": "code",
   "execution_count": 1,
   "metadata": {},
   "outputs": [
    {
     "data": {
      "application/vnd.jupyter.widget-view+json": {
       "model_id": "f9e702ea47884d698b01229392aa478c",
       "version_major": 2,
       "version_minor": 0
      },
      "text/plain": [
       "README.md:   0%|          | 0.00/3.31k [00:00<?, ?B/s]"
      ]
     },
     "metadata": {},
     "output_type": "display_data"
    },
    {
     "data": {
      "application/vnd.jupyter.widget-view+json": {
       "model_id": "5e0c481f879644f0a360ce043e138f5b",
       "version_major": 2,
       "version_minor": 0
      },
      "text/plain": [
       "train-00000-of-00003.parquet:   0%|          | 0.00/190M [00:00<?, ?B/s]"
      ]
     },
     "metadata": {},
     "output_type": "display_data"
    },
    {
     "data": {
      "application/vnd.jupyter.widget-view+json": {
       "model_id": "40a245cce15b4d00a0dd527b01ad242f",
       "version_major": 2,
       "version_minor": 0
      },
      "text/plain": [
       "train-00001-of-00003.parquet:   0%|          | 0.00/190M [00:00<?, ?B/s]"
      ]
     },
     "metadata": {},
     "output_type": "display_data"
    },
    {
     "data": {
      "application/vnd.jupyter.widget-view+json": {
       "model_id": "0439d15070fa4064b85b9f830a673e31",
       "version_major": 2,
       "version_minor": 0
      },
      "text/plain": [
       "train-00002-of-00003.parquet:   0%|          | 0.00/189M [00:00<?, ?B/s]"
      ]
     },
     "metadata": {},
     "output_type": "display_data"
    },
    {
     "data": {
      "application/vnd.jupyter.widget-view+json": {
       "model_id": "17f1733f325a41b880b09bfe56a6f856",
       "version_major": 2,
       "version_minor": 0
      },
      "text/plain": [
       "validation-00000-of-00001.parquet:   0%|          | 0.00/7.58M [00:00<?, ?B/s]"
      ]
     },
     "metadata": {},
     "output_type": "display_data"
    },
    {
     "data": {
      "application/vnd.jupyter.widget-view+json": {
       "model_id": "f52be3eecd4543d2855398c9b7d45dbc",
       "version_major": 2,
       "version_minor": 0
      },
      "text/plain": [
       "Generating train split:   0%|          | 0/202767 [00:00<?, ? examples/s]"
      ]
     },
     "metadata": {},
     "output_type": "display_data"
    },
    {
     "data": {
      "application/vnd.jupyter.widget-view+json": {
       "model_id": "00a83399badb41128d346cbd365df3fe",
       "version_major": 2,
       "version_minor": 0
      },
      "text/plain": [
       "Generating validation split:   0%|          | 0/2646 [00:00<?, ? examples/s]"
      ]
     },
     "metadata": {},
     "output_type": "display_data"
    },
    {
     "data": {
      "text/plain": [
       "DatasetDict({\n",
       "    train: Dataset({\n",
       "        features: ['question', 'answer', 'context'],\n",
       "        num_rows: 202767\n",
       "    })\n",
       "    validation: Dataset({\n",
       "        features: ['question', 'answer', 'context'],\n",
       "        num_rows: 2646\n",
       "    })\n",
       "})"
      ]
     },
     "execution_count": 1,
     "metadata": {},
     "output_type": "execute_result"
    }
   ],
   "source": [
    "import datasets\n",
    "import evaluate\n",
    "\n",
    "rouge = evaluate.load(\"rouge\")\n",
    "\n",
    "# Long-form question answering dataset, nicely preprocessed already.\n",
    "# Similar to ELI5: https://facebookresearch.github.io/ELI5/index.html (which is unavailable now)\n",
    "# I use my filtered version\n",
    "dataset_lfqa = datasets.load_dataset(\"stefanbschneider/lfqa-max-answer-length-512\")\n",
    "dataset_lfqa"
   ]
  },
  {
   "cell_type": "code",
   "execution_count": 2,
   "metadata": {},
   "outputs": [
    {
     "data": {
      "application/vnd.jupyter.widget-view+json": {
       "model_id": "4ca45c348f1d494980b8196989d1225a",
       "version_major": 2,
       "version_minor": 0
      },
      "text/plain": [
       "config.json:   0%|          | 0.00/1.18k [00:00<?, ?B/s]"
      ]
     },
     "metadata": {},
     "output_type": "display_data"
    },
    {
     "data": {
      "application/vnd.jupyter.widget-view+json": {
       "model_id": "4d28098fc9624f69a39b4d030ea166b0",
       "version_major": 2,
       "version_minor": 0
      },
      "text/plain": [
       "model.safetensors:   0%|          | 0.00/648M [00:00<?, ?B/s]"
      ]
     },
     "metadata": {},
     "output_type": "display_data"
    },
    {
     "data": {
      "application/vnd.jupyter.widget-view+json": {
       "model_id": "afc1f07dae2a458f84c037e88e5d1feb",
       "version_major": 2,
       "version_minor": 0
      },
      "text/plain": [
       "generation_config.json:   0%|          | 0.00/231 [00:00<?, ?B/s]"
      ]
     },
     "metadata": {},
     "output_type": "display_data"
    }
   ],
   "source": [
    "from transformers import AutoModelForSeq2SeqLM, AutoTokenizer\n",
    "\n",
    "tokenizer = AutoTokenizer.from_pretrained(\"allenai/led-base-16384\")\n",
    "base_model = AutoModelForSeq2SeqLM.from_pretrained(\"allenai/led-base-16384\")\n",
    "tuned_model = AutoModelForSeq2SeqLM.from_pretrained(\"stefanbschneider/led-base-16384-lfqa-ans-len-512\", revision=\"main\")"
   ]
  },
  {
   "cell_type": "code",
   "execution_count": 3,
   "metadata": {},
   "outputs": [
    {
     "data": {
      "text/plain": [
       "{'question': \"what's the difference between a forest and a wood?\",\n",
       " 'answer': \"They're used interchangeably a lot. You'll get different answers from different resources, but the general consensus seems to be that woods are smaller than forests.\\n\\n >  A wood is an area covered in trees, larger than a grove or a copse. A forest is also an area covered in trees, but it is larger than a wood\\n\\n >  The U.S. National Vegetation Classification system differentiates them according to their densities: 25 to 60 percent of a a wood is covered by tree canopies, while 60 to 100 percent of a forest is canopied.\",\n",
       " 'context': ['Wood is divided, according to its botanical origin, into two kinds: softwoods, from coniferous trees, and hardwoods, from broad-leaved trees. Softwoods are lighter and generally simple in structure, whereas hardwoods are harder and more complex. However, in Australia, \"softwood\" generally describes rain forest trees, and \"hardwood\" describes Sclerophyll species (\"Eucalyptus\" \"spp\").\\n',\n",
       "  'Woodland is defined by Chambers English dictionary as \"land covered with wood\" i.e. dominated by tree species. Forestry is defined as \"1. the science and art of planting, tending and managing forests; 2. Forest country\". This implies that forests have been planted by mankind for a variety of purposes, but mostly for exploitation for timber and pulp for the paper industry. The majority of Forests in Wales were planted by the British Forestry Commission, a UK government agency. Since 2016 the Forestry Commission in Wales has been taken over by Natural Resources Wales (NRW).\\n',\n",
       "  'A woodland or wood (or in the U.S., the \"plurale tantum\" woods) is a low-density forest forming open habitats with plenty of sunlight and limited shade. Woodlands may support an understory of shrubs and herbaceous plants including grasses. Woodland may form a transition to shrubland under drier conditions or during early stages of primary or secondary succession. Higher density areas of trees with a largely closed canopy that provides extensive and nearly continuous shade are referred to as forests. \\n',\n",
       "  'Timber means trunks and branches of trees, whether standing or not, and all wood. This definition includes the full range of wood products; all categories of saw logs, veneer logs, pulpwood and firewood.\\n',\n",
       "  'A forest product is any material derived from forestry for direct consumption or commercial use, such as lumber, paper, or forage for livestock. Wood, by far the dominant product of forests, is used for many purposes, such as wood fuel (e.g. in form of firewood or charcoal) or the finished structural materials used for the construction of buildings, or as a raw material, in the form of wood pulp, that is used in the production of paper. All other non-wood products derived from forest resources, comprising a broad variety of other forest products, are collectively described as non-timber forest products (NTFP). Non-timber forest products are viewed to have fewer negative effects on forest ecosystem when providing income sources for local community.\\n',\n",
       "  'Wood is a product of trees, and sometimes other fibrous plants, used for construction purposes when cut or pressed into lumber and timber, such as boards, planks and similar materials. It is a generic building material and is used in building just about any type of structure in most climates. Wood can be very flexible under loads, keeping strength while bending, and is incredibly strong when compressed vertically. There are many differing qualities to the different types of wood, even among same tree species. This means specific species are better suited for various uses than others. And growing conditions are important for deciding quality.\\n',\n",
       "  'Processing and products differs especially with regard to the distinction between softwood and hardwood. While softwood primarily goes into the production of wood fuel and pulp and paper, hardwood is used mainly for furniture, floors, etc.. Both types can be of use for building and (residential) construction purposes (e.g. log houses, log cabins, timber framing).\\n']}"
      ]
     },
     "execution_count": 3,
     "metadata": {},
     "output_type": "execute_result"
    }
   ],
   "source": [
    "example = dataset_lfqa[\"train\"][0]\n",
    "example"
   ]
  },
  {
   "cell_type": "code",
   "execution_count": 4,
   "metadata": {},
   "outputs": [
    {
     "name": "stderr",
     "output_type": "stream",
     "text": [
      "Input ids are automatically padded from 727 to 1024 to be a multiple of `config.attention_window`: 1024\n"
     ]
    },
    {
     "data": {
      "text/plain": [
       "'question: what\\'s the difference between a forest and a wood?, context: Wood is divided, according to its botanical origin, into two kinds: softwoods, from coniferous trees, and hardwoods, from broad-leaved trees. Softwoods are lighter and generally simple in structure, whereas hardwoods are harder and more complex. However, in Australia, \"softwood\" generally describes rain forest trees, and \"hardwood\" describes Sclerophyll species (\"Eucalyptus\" \"spp\"). Woodland is defined by Chambers English dictionary as \"land covered with wood\" i.e. dominated by tree species. Forestry is defined as \"1. the science and art of planting, tending and managing forests; 2. Forest country\". This implies that forests have been planted by mankind for a variety of purposes, but mostly for exploitation for timber and pulp for the paper industry. The majority of Forests in Wales were planted by the British Forestry Commission, a UK government agency. Since 2016 the Forestry Commission in Wales has been taken over by Natural Resources Wales (NRW). Woodland is a type of forest that is dominated by tree species. Woodland is a type of forest that is dominated by tree species. Woodland is a type of forest that is dominated by tree species. Woodland is a type of forest that is dominated by tree species. The majority of Forests in Wales were planted by the British Forestry Commission, a UK government agency. Since 2016 the Forestry Commission in Wales has been taken over by Natural Resources Wales (NRW). Woodland is a type of forest that is dominated by tree species. A woodland or wood (or in the U.S., the \"plurale tantum\" woods) is a low-density forest forming open habitats with plenty of sunlight and limited shade. Woodlands may support an understory of shrubs and herbaceous plants including grasses. Woodland may form a transition to shrubland under drier conditions or during early stages of primary or secondary succession. Higher density areas of trees with a largely closed canopy that provides extensive and nearly continuous shade are referred to as forests. ÂWoodland is a type of forest. Timber means trunks and branches of trees, whether standing or not, and all wood. This definition includes the full range of wood products; all categories of saw logs, veneer logs, pulpwood and firewood. Woodland is a type of wood that is used for many purposes. A forest product is any material derived'"
      ]
     },
     "execution_count": 4,
     "metadata": {},
     "output_type": "execute_result"
    }
   ],
   "source": [
    "input = f\"question: {example['question']}, context: {' '.join(example['context'])}\"    \n",
    "tokens = tokenizer(input, return_tensors=\"pt\")\n",
    "\n",
    "# base model\n",
    "base_model_output = base_model.generate(**tokens, max_length=512)\n",
    "base_model_answer = tokenizer.decode(base_model_output[0], skip_special_tokens=True)\n",
    "base_model_answer"
   ]
  },
  {
   "cell_type": "code",
   "execution_count": 5,
   "metadata": {},
   "outputs": [
    {
     "data": {
      "text/plain": [
       "{'rouge1': 0.18969072164948456,\n",
       " 'rouge2': 0.033126293995859216,\n",
       " 'rougeL': 0.11958762886597939,\n",
       " 'rougeLsum': 0.15257731958762888}"
      ]
     },
     "execution_count": 5,
     "metadata": {},
     "output_type": "execute_result"
    }
   ],
   "source": [
    "rouge.compute(predictions=[base_model_answer], references=[example['answer']])"
   ]
  },
  {
   "cell_type": "code",
   "execution_count": 6,
   "metadata": {},
   "outputs": [
    {
     "data": {
      "text/plain": [
       "'A forest is an area of land covered with trees. A wood is a piece of land that is covered by trees.\\n\\nA tree is a part of a forest.\\n\\n_URL_0_\\n\\nThe difference between a forest and a wood is that a forest is more dense than a tree, and a tree is more complex than a wood. \\n\\nSo, a forest means that a tree grows in a way that allows it to grow in a more dense area. \\nA wood means that it grows in an area where it can grow in more dense areas.  A forest is a place where a tree can grow and grow in less dense areas than a forest can grow. \\n\\n\\nA forest means a place that grows in such dense areas that it can be used for a variety of purposes.  For example, a tree that grows on a tree will grow in such a way to support a tree.  The tree will be able to support the tree, but the tree will not be strong enough to support it.  \\n\\n\\n\\n\\n\\n\"A forest\" means a forest where a forest grows in the same way as a tree growing in a different area.\\n\\n\\n\\n\\n\\n\\n\\n\\n\\n\\n\\n\\n\\n\\n\\n\\n > \\n\\n >\\n\\n\\n >\\n\\n >\\n\\n >\\n\\n >\\n >\\n \\n\\n\\n\\n \\n \\n\\n \\n\\n\\n\\n >     \\n \\n > > \\n\"The forest\" is a word that means \"land covered in trees.\"\\n\\nIf you mean \"wood\" or \"woodland.\"\\n\"woodland\" means \"wood.\" >  \"woodlands\" means trees that grow in different areas of the world.  If you want to know more about trees, you\\'d have to know a lot about trees.\\n If you want a tree to be a forest, then you\\'d need to know that trees grow in trees.  You\\'d need trees to be trees, and trees are a tree species.\\n\\n\\n & #x200B;\\n\\n*\\n*\\n\\n\\n*\\n\\n**\\n\\n\\n\\n*\\n\\n > (_URL_1_)\\n\\nHope that helps_(_URL_2_)h\"|u | &\\r :)! ;) ) :-) +)\\n\\n|\\n\\n\"\\n\\n)\\n|||)\\n\\n|\\n|\"\"|\"\"|_|)\"\\n\\n)|\\n)_\"(___|)||\"|||_\"|\")(_\"|))|]|(_||)\\n(_)|)\\n\\n\\n||(_)) |||](| (_) (_|) |(_|) |(_...);|| ||) )(_ (_| |(_|_)|(__)\\n\\n)|\\n\"|(_...)|(_))\\n\\n||\\n\\n(_%)(_._) || |(_...)\\n\\n (_...)|\\n\\n|) -| &|| (_||...)(_?),%... -!\"]|_\\n\\n\" ||!\"|!)...\"!)|!|...)|!\"| &|!|...)\"!\" |\" |)...|...\"|.....\", \"\"\\'t...)||...\"|)\"%)...?vertising.....|]|| &|...|.....|\\\\....,...______ \"_|).cluded)...))vertising|vertising)%|______\") )) &)______); } {\")\\\\|)! commented\\'-)\\'ll|(?12)...?|;).....\" (_30)(...) (_!\"(_!)(_Hope)Why)?|...?)\\'t||...||!\"|\"...)\\n\\n | (_\"|\\n\\n\\n\\n|(_%)| \"_\"|...\"|(_title)|\"...\"||.....||....|\\'t|12\"|.....\"|...))'"
      ]
     },
     "execution_count": 6,
     "metadata": {},
     "output_type": "execute_result"
    }
   ],
   "source": [
    "# same for fine-tuned model\n",
    "tuned_model_output = tuned_model.generate(**tokens, max_length=512)\n",
    "tuned_model_answer = tokenizer.decode(tuned_model_output[0], skip_special_tokens=True)\n",
    "tuned_model_answer"
   ]
  },
  {
   "cell_type": "code",
   "execution_count": 7,
   "metadata": {},
   "outputs": [
    {
     "data": {
      "text/plain": [
       "{'rouge1': 0.28070175438596495,\n",
       " 'rouge2': 0.11586901763224182,\n",
       " 'rougeL': 0.14035087719298248,\n",
       " 'rougeLsum': 0.2606516290726817}"
      ]
     },
     "execution_count": 7,
     "metadata": {},
     "output_type": "execute_result"
    }
   ],
   "source": [
    "rouge.compute(predictions=[tuned_model_answer], references=[example['answer']])"
   ]
  },
  {
   "cell_type": "code",
   "execution_count": 11,
   "metadata": {},
   "outputs": [
    {
     "name": "stderr",
     "output_type": "stream",
     "text": [
      "Device set to use mps:0\n"
     ]
    }
   ],
   "source": [
    "from transformers import pipeline\n",
    "\n",
    "base_pipeline = pipeline(task=\"text2text-generation\", model=\"allenai/led-base-16384\")"
   ]
  },
  {
   "cell_type": "code",
   "execution_count": 12,
   "metadata": {},
   "outputs": [
    {
     "data": {
      "text/plain": [
       "[{'generated_text': 'question: What is the capital of Germany?, context: Germany is a country in Europe. Its'}]"
      ]
     },
     "execution_count": 12,
     "metadata": {},
     "output_type": "execute_result"
    }
   ],
   "source": [
    "base_pipeline(\"question: What is the capital of Germany?, context: Germany is a country in Europe. Its capital is Berlin.\")"
   ]
  },
  {
   "cell_type": "code",
   "execution_count": null,
   "metadata": {},
   "outputs": [
    {
     "data": {
      "application/vnd.jupyter.widget-view+json": {
       "model_id": "0a2cbf4bfcf94c9db3aa01111a275243",
       "version_major": 2,
       "version_minor": 0
      },
      "text/plain": [
       "tokenizer_config.json:   0%|          | 0.00/1.24k [00:00<?, ?B/s]"
      ]
     },
     "metadata": {},
     "output_type": "display_data"
    },
    {
     "data": {
      "application/vnd.jupyter.widget-view+json": {
       "model_id": "ac4bd3d0c496430786712584e65ce137",
       "version_major": 2,
       "version_minor": 0
      },
      "text/plain": [
       "vocab.json:   0%|          | 0.00/798k [00:00<?, ?B/s]"
      ]
     },
     "metadata": {},
     "output_type": "display_data"
    },
    {
     "data": {
      "application/vnd.jupyter.widget-view+json": {
       "model_id": "9e7e393248774b2d9a1201745fa512a6",
       "version_major": 2,
       "version_minor": 0
      },
      "text/plain": [
       "merges.txt:   0%|          | 0.00/456k [00:00<?, ?B/s]"
      ]
     },
     "metadata": {},
     "output_type": "display_data"
    },
    {
     "data": {
      "application/vnd.jupyter.widget-view+json": {
       "model_id": "95f5fd3f07414d76a61e60d114c5846b",
       "version_major": 2,
       "version_minor": 0
      },
      "text/plain": [
       "tokenizer.json:   0%|          | 0.00/3.56M [00:00<?, ?B/s]"
      ]
     },
     "metadata": {},
     "output_type": "display_data"
    },
    {
     "data": {
      "application/vnd.jupyter.widget-view+json": {
       "model_id": "c50a3439117b4efaa633d007f1934c32",
       "version_major": 2,
       "version_minor": 0
      },
      "text/plain": [
       "special_tokens_map.json:   0%|          | 0.00/957 [00:00<?, ?B/s]"
      ]
     },
     "metadata": {},
     "output_type": "display_data"
    },
    {
     "name": "stderr",
     "output_type": "stream",
     "text": [
      "Device set to use mps:0\n"
     ]
    }
   ],
   "source": [
    "lfqa_pipeline = pipeline(task=\"text2text-generation\", model=\"stefanbschneider/led-base-16384-lfqa-ans-len-512\")\n"
   ]
  },
  {
   "cell_type": "code",
   "execution_count": 9,
   "metadata": {},
   "outputs": [
    {
     "name": "stderr",
     "output_type": "stream",
     "text": [
      "Input ids are automatically padded from 25 to 1024 to be a multiple of `config.attention_window`: 1024\n"
     ]
    },
    {
     "data": {
      "text/plain": [
       "[{'generated_text': 'The capital of Germany is Berlin.\\n\\nThe capital is Berlin, which is the capital of the German state of Brandenburg.\\n\\n_URL_0_\\n\\nGermany is the largest city in Europe, with a population of around 10 million.\\n \\n\\nIt\\'s the capital, Berlin. \\n\\n_\\n_\\n\\n\\n\\n\"Berlin\" is the name of the city in Germany. \"Berliner\" is a German name for the city of Berlin.\\n\\n\\n\\n\\n\" Berlin\" is an abbreviation of \"Berlin\", which means \"German capital\".\\n\\n\\n\\n\\n\\nThe name of Berlin is \"Berliner\", which is a name for Berlin.\\n\\n\\n\\nThe title of the \"German Capital of Germany\" is German for \"Germany\" and \"German City of Berlin\".\\n\\nBerlin is a city in the German capital of Berlin, Berlin is a country in Europe. \\n\\n\\nGermany has a capital called Berlin, and a city called Berlin is Germany\\'s capital.  \\n\\n\\n\\n\\n\\n_\\n \\n \\n\\n\\n\\n\\n\\n\\n >\\n\\n\\n >\\n\\n\\n_\\n\\n\\n >\\n >\\n\\n\\n >\\r\\n\\n \\n\\n > \\n > \\n\\n >\\n\\n\\n\\n \\n  \\n_ >\\n > >\\n_\\r\\n >_\\n >;\\n\\n-\\n\\n--\\n\\n\\n--\\n\\n*\\n\\n\\\\-\\n\\n---\\n\\nHope this is a good place to start.\\n\\n\\n-\\n\\n\\n**\\n\\r >\\n_\\n\\n \\n\\n_\\n >\\n\\n \\n\\n_URL\\n\\n\\n\\n\\n\\n\\r\\n\\n\\nHope that helps.\\n\\n >     >\\n\\n\\r\\n\"Germany\"|(_URL_\\n);^h~~**\\n\\n*\\n\\n\\n|\\n|\\n\\n||\\n\\n|||\\n\\n\\n\\n|\\n||\\n|\\n\\n\\n\\n\\n|\\n\\n||\\n\\n\\n _URL|~~~~~~||~~~~\\n\\n~~~~**||---||**|~~|\\n\\n~~\\n\\n\\n\\n~~~~~~\\n~~|~~\\n\\n|~~|\\n\\n~~\\n\\n** ;))\\n\\n] )'}]"
      ]
     },
     "execution_count": 9,
     "metadata": {},
     "output_type": "execute_result"
    }
   ],
   "source": [
    "lfqa_pipeline(\"question: What is the capital of Germany?, context: Germany is a country in Europe. Its capital is Berlin.\")"
   ]
  },
  {
   "cell_type": "code",
   "execution_count": 10,
   "metadata": {},
   "outputs": [
    {
     "name": "stdout",
     "output_type": "stream",
     "text": [
      "question: what's the difference between a forest and a wood?, context: Wood is divided, according to its botanical origin, into two kinds: softwoods, from coniferous trees, and hardwoods, from broad-leaved trees. Softwoods are lighter and generally simple in structure, whereas hardwoods are harder and more complex. However, in Australia, \"softwood\" generally describes rain forest trees, and \"hardwood\" describes Sclerophyll species (\"Eucalyptus\" \"spp\").\n",
      " Woodland is defined by Chambers English dictionary as \"land covered with wood\" i.e. dominated by tree species. Forestry is defined as \"1. the science and art of planting, tending and managing forests; 2. Forest country\". This implies that forests have been planted by mankind for a variety of purposes, but mostly for exploitation for timber and pulp for the paper industry. The majority of Forests in Wales were planted by the British Forestry Commission, a UK government agency. Since 2016 the Forestry Commission in Wales has been taken over by Natural Resources Wales (NRW).\n",
      " A woodland or wood (or in the U.S., the \"plurale tantum\" woods) is a low-density forest forming open habitats with plenty of sunlight and limited shade. Woodlands may support an understory of shrubs and herbaceous plants including grasses. Woodland may form a transition to shrubland under drier conditions or during early stages of primary or secondary succession. Higher density areas of trees with a largely closed canopy that provides extensive and nearly continuous shade are referred to as forests. \n",
      " Timber means trunks and branches of trees, whether standing or not, and all wood. This definition includes the full range of wood products; all categories of saw logs, veneer logs, pulpwood and firewood.\n",
      " A forest product is any material derived from forestry for direct consumption or commercial use, such as lumber, paper, or forage for livestock. Wood, by far the dominant product of forests, is used for many purposes, such as wood fuel (e.g. in form of firewood or charcoal) or the finished structural materials used for the construction of buildings, or as a raw material, in the form of wood pulp, that is used in the production of paper. All other non-wood products derived from forest resources, comprising a broad variety of other forest products, are collectively described as non-timber forest products (NTFP). Non-timber forest products are viewed to have fewer negative effects on forest ecosystem when providing income sources for local community.\n",
      " Wood is a product of trees, and sometimes other fibrous plants, used for construction purposes when cut or pressed into lumber and timber, such as boards, planks and similar materials. It is a generic building material and is used in building just about any type of structure in most climates. Wood can be very flexible under loads, keeping strength while bending, and is incredibly strong when compressed vertically. There are many differing qualities to the different types of wood, even among same tree species. This means specific species are better suited for various uses than others. And growing conditions are important for deciding quality.\n",
      " Processing and products differs especially with regard to the distinction between softwood and hardwood. While softwood primarily goes into the production of wood fuel and pulp and paper, hardwood is used mainly for furniture, floors, etc.. Both types can be of use for building and (residential) construction purposes (e.g. log houses, log cabins, timber framing).\n",
      "\n"
     ]
    },
    {
     "data": {
      "text/plain": [
       "[{'generated_text': 'A forest is an area of land covered with trees. A wood is a piece of land that is covered by trees.\\n\\nA tree is a part of a forest.\\n\\n_URL_0_\\n\\nThe difference between a forest and a wood is that a forest is more dense than a tree, and a tree is more complex than a wood. \\n\\nSo, a forest means that a tree grows in a way that allows it to grow in a more dense area. \\nA wood means that it grows in an area where it can grow in more dense areas.  A forest is a place where a tree can grow and grow in less dense areas than a forest can grow. \\n\\n\\nA forest means a place that grows in such dense areas that it can be used for a variety of purposes.  For example, a tree that grows on a tree will grow in such a way to support a tree.  The tree will be able to support the tree, but the tree will not be strong enough to support it.  \\n\\n\\n\\n\\n\\n\"A forest\" means a forest where a forest grows in the same way as a tree growing in a different area.\\n\\n\\n\\n\\n\\n\\n\\n\\n\\n\\n\\n\\n\\n\\n\\n\\n > \\n\\n >\\n\\n\\n >\\n\\n >\\n\\n >\\n\\n >\\n >\\n \\n\\n\\n\\n \\n \\n\\n \\n\\n\\n\\n >     \\n \\n > > \\n\"The forest\" is a word that means \"land covered in trees.\"\\n\\nIf you mean \"wood\" or \"woodland.\"\\n\"woodland\" means \"wood.\" >  \"woodlands\" means trees that grow in different areas of the world.  If you want to know more about trees, you\\'d have to know a lot about trees.\\n If you want a tree to be a forest, then you\\'d need to know that trees grow in trees.  You\\'d need trees to be trees, and trees are a tree species.\\n\\n\\n & #x200B;\\n\\n*\\n*\\n\\n\\n*\\n\\n**\\n\\n\\n\\n*\\n\\n > (_URL_1_)\\n\\nHope that helps_(_URL_2_)h\"|u | &\\r'}]"
      ]
     },
     "execution_count": 10,
     "metadata": {},
     "output_type": "execute_result"
    }
   ],
   "source": [
    "print(input)\n",
    "lfqa_pipeline(input)"
   ]
  },
  {
   "cell_type": "code",
   "execution_count": null,
   "metadata": {},
   "outputs": [],
   "source": []
  }
 ],
 "metadata": {
  "kernelspec": {
   "display_name": "llm",
   "language": "python",
   "name": "python3"
  },
  "language_info": {
   "codemirror_mode": {
    "name": "ipython",
    "version": 3
   },
   "file_extension": ".py",
   "mimetype": "text/x-python",
   "name": "python",
   "nbconvert_exporter": "python",
   "pygments_lexer": "ipython3",
   "version": "3.12.3"
  }
 },
 "nbformat": 4,
 "nbformat_minor": 2
}
